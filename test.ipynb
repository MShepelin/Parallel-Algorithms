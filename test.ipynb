{
 "cells": [
  {
   "cell_type": "code",
   "execution_count": 17,
   "metadata": {},
   "outputs": [],
   "source": [
    "from scipy.sparse import rand\n",
    "import numpy as np\n",
    "import tensorflow as tf\n",
    "from parallelrank import find_rank\n",
    "\n",
    "#assert len(tf.config.list_physical_devices('GPU')) > 0\n",
    "\n",
    "matrix = rand(10, 100, density=0, format='csr', dtype=np.int8)\n",
    "matrix.data[:] = 1"
   ]
  },
  {
   "cell_type": "code",
   "execution_count": 6,
   "metadata": {},
   "outputs": [
    {
     "name": "stdout",
     "output_type": "stream",
     "text": [
      "39\n",
      "Wall time: 1.87 s\n"
     ]
    }
   ],
   "source": [
    "%%time\n",
    "rank = tf.linalg.matrix_rank(matrix.todense(), tol=1e-10).numpy()\n",
    "print(rank)\n",
    "\n",
    "# 60 ms"
   ]
  },
  {
   "cell_type": "code",
   "execution_count": 23,
   "metadata": {},
   "outputs": [
    {
     "name": "stdout",
     "output_type": "stream",
     "text": [
      "10\n",
      "Wall time: 7.58 s\n"
     ]
    }
   ],
   "source": [
    "%%time\n",
    "rank = find_rank(matrix.indptr, matrix.indices, matrix.shape[1], matrix.shape[0])\n",
    "print(rank)\n",
    "\n",
    "# 300 ms"
   ]
  }
 ],
 "metadata": {
  "kernelspec": {
   "display_name": "cuda_dev",
   "language": "python",
   "name": "python3"
  },
  "language_info": {
   "codemirror_mode": {
    "name": "ipython",
    "version": 3
   },
   "file_extension": ".py",
   "mimetype": "text/x-python",
   "name": "python",
   "nbconvert_exporter": "python",
   "pygments_lexer": "ipython3",
   "version": "3.7.4"
  },
  "orig_nbformat": 4,
  "vscode": {
   "interpreter": {
    "hash": "f9baa32912ff81f2bb0d60b39b33c049daf1d8b98af61f1898769017504a65ea"
   }
  }
 },
 "nbformat": 4,
 "nbformat_minor": 2
}
