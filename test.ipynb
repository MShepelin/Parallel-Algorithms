{
 "cells": [
  {
   "cell_type": "code",
   "execution_count": 1,
   "metadata": {},
   "outputs": [],
   "source": [
    "#from parallelrank import findRank\n",
    "#import numpy as np\n",
    "#import tensorflow as tf\n",
    "\n",
    "#import matplotlib.pyplot as plt\n",
    "#from timeit import default_timer as timer\n",
    "#from time import sleep\n",
    "\n",
    "#assert len(tf.config.list_physical_devices('GPU')) > 0"
   ]
  },
  {
   "cell_type": "code",
   "execution_count": 1,
   "metadata": {},
   "outputs": [],
   "source": [
    "from scipy.sparse import rand\n",
    "import numpy as np\n",
    "\n",
    "matrix = rand(10, 100, density=0.2, format='csr', dtype=np.int8)\n",
    "matrix.data[:] = 1"
   ]
  },
  {
   "cell_type": "code",
   "execution_count": 2,
   "metadata": {},
   "outputs": [],
   "source": [
    "from parallelrank import find_rank\n",
    "\n",
    "find_rank(matrix.indices, matrix.indptr, matrix.shape[0], matrix.shape[1])"
   ]
  }
 ],
 "metadata": {
  "kernelspec": {
   "display_name": "cuda_dev",
   "language": "python",
   "name": "python3"
  },
  "language_info": {
   "codemirror_mode": {
    "name": "ipython",
    "version": 3
   },
   "file_extension": ".py",
   "mimetype": "text/x-python",
   "name": "python",
   "nbconvert_exporter": "python",
   "pygments_lexer": "ipython3",
   "version": "3.7.16"
  },
  "orig_nbformat": 4,
  "vscode": {
   "interpreter": {
    "hash": "f9baa32912ff81f2bb0d60b39b33c049daf1d8b98af61f1898769017504a65ea"
   }
  }
 },
 "nbformat": 4,
 "nbformat_minor": 2
}
