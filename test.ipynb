{
 "cells": [
  {
   "cell_type": "code",
   "execution_count": 14,
   "metadata": {},
   "outputs": [],
   "source": [
    "from scipy.sparse import rand\n",
    "import numpy as np\n",
    "import tensorflow as tf\n",
    "from parallelrank import find_rank\n",
    "\n",
    "assert len(tf.config.list_physical_devices('GPU')) > 0\n",
    "\n",
    "matrix = rand(1000, 1000, density=0.2, format='csr', dtype=np.int8)\n",
    "matrix.data[:] = 1"
   ]
  },
  {
   "cell_type": "code",
   "execution_count": 19,
   "metadata": {},
   "outputs": [
    {
     "name": "stdout",
     "output_type": "stream",
     "text": [
      "1000\n",
      "CPU times: user 463 ms, sys: 49.5 ms, total: 512 ms\n",
      "Wall time: 513 ms\n"
     ]
    }
   ],
   "source": [
    "%%time\n",
    "rank = tf.linalg.matrix_rank(matrix.todense(), tol=1e-10).numpy()\n",
    "print(rank)"
   ]
  },
  {
   "cell_type": "code",
   "execution_count": 20,
   "metadata": {},
   "outputs": [
    {
     "name": "stdout",
     "output_type": "stream",
     "text": [
      "1000\n",
      "CPU times: user 2.61 s, sys: 123 ms, total: 2.73 s\n",
      "Wall time: 2.74 s\n"
     ]
    }
   ],
   "source": [
    "%%time\n",
    "rank = find_rank(matrix.indptr, matrix.indices, matrix.shape[1], matrix.shape[0])\n",
    "print(rank)"
   ]
  }
 ],
 "metadata": {
  "kernelspec": {
   "display_name": "cuda_dev",
   "language": "python",
   "name": "python3"
  },
  "language_info": {
   "codemirror_mode": {
    "name": "ipython",
    "version": 3
   },
   "file_extension": ".py",
   "mimetype": "text/x-python",
   "name": "python",
   "nbconvert_exporter": "python",
   "pygments_lexer": "ipython3",
   "version": "3.7.16"
  },
  "orig_nbformat": 4,
  "vscode": {
   "interpreter": {
    "hash": "f9baa32912ff81f2bb0d60b39b33c049daf1d8b98af61f1898769017504a65ea"
   }
  }
 },
 "nbformat": 4,
 "nbformat_minor": 2
}
