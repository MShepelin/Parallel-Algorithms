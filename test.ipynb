{
 "cells": [
  {
   "attachments": {},
   "cell_type": "markdown",
   "metadata": {},
   "source": [
    "# Playing with rank computation"
   ]
  },
  {
   "cell_type": "code",
   "execution_count": 1,
   "metadata": {},
   "outputs": [
    {
     "name": "stderr",
     "output_type": "stream",
     "text": [
      "2023-04-17 18:42:26.669653: I tensorflow/stream_executor/platform/default/dso_loader.cc:44] Successfully opened dynamic library libcuda.so.1\n",
      "2023-04-17 18:42:29.273917: E tensorflow/stream_executor/cuda/cuda_gpu_executor.cc:967] could not open file to read NUMA node: /sys/bus/pci/devices/0000:02:00.0/numa_node\n",
      "Your kernel may have been built without NUMA support.\n",
      "2023-04-17 18:42:29.274036: I tensorflow/core/common_runtime/gpu/gpu_device.cc:1555] Found device 0 with properties: \n",
      "pciBusID: 0000:02:00.0 name: NVIDIA GeForce GTX 1050 with Max-Q Design computeCapability: 6.1\n",
      "coreClock: 1.139GHz coreCount: 5 deviceMemorySize: 4.00GiB deviceMemoryBandwidth: 104.43GiB/s\n",
      "2023-04-17 18:42:29.274403: I tensorflow/stream_executor/platform/default/dso_loader.cc:44] Successfully opened dynamic library libcudart.so.10.1\n",
      "2023-04-17 18:42:29.282334: I tensorflow/stream_executor/platform/default/dso_loader.cc:44] Successfully opened dynamic library libcublas.so.10\n",
      "2023-04-17 18:42:29.289558: I tensorflow/stream_executor/platform/default/dso_loader.cc:44] Successfully opened dynamic library libcufft.so.10\n",
      "2023-04-17 18:42:29.290371: I tensorflow/stream_executor/platform/default/dso_loader.cc:44] Successfully opened dynamic library libcurand.so.10\n",
      "2023-04-17 18:42:29.296828: I tensorflow/stream_executor/platform/default/dso_loader.cc:44] Successfully opened dynamic library libcusolver.so.10\n",
      "2023-04-17 18:42:29.299113: I tensorflow/stream_executor/platform/default/dso_loader.cc:44] Successfully opened dynamic library libcusparse.so.10\n",
      "2023-04-17 18:42:29.306010: I tensorflow/stream_executor/platform/default/dso_loader.cc:44] Successfully opened dynamic library libcudnn.so.7\n",
      "2023-04-17 18:42:29.307075: E tensorflow/stream_executor/cuda/cuda_gpu_executor.cc:967] could not open file to read NUMA node: /sys/bus/pci/devices/0000:02:00.0/numa_node\n",
      "Your kernel may have been built without NUMA support.\n",
      "2023-04-17 18:42:29.307965: E tensorflow/stream_executor/cuda/cuda_gpu_executor.cc:967] could not open file to read NUMA node: /sys/bus/pci/devices/0000:02:00.0/numa_node\n",
      "Your kernel may have been built without NUMA support.\n",
      "2023-04-17 18:42:29.308004: I tensorflow/core/common_runtime/gpu/gpu_device.cc:1697] Adding visible gpu devices: 0\n"
     ]
    }
   ],
   "source": [
    "from scipy.sparse import save_npz, load_npz, rand, coo_matrix\n",
    "import numpy as np\n",
    "import tensorflow as tf\n",
    "from parallelrank import find_rank\n",
    "\n",
    "assert len(tf.config.list_physical_devices('GPU')) > 0"
   ]
  },
  {
   "cell_type": "markdown",
   "metadata": {},
   "source": [
    "### Simple comparison"
   ]
  },
  {
   "cell_type": "code",
   "execution_count": null,
   "metadata": {},
   "outputs": [],
   "source": [
    "matrix = rand(1000, 1000, density=0.0001, format='csr', dtype=np.int8)"
   ]
  },
  {
   "cell_type": "code",
   "execution_count": 3,
   "metadata": {},
   "outputs": [
    {
     "name": "stdout",
     "output_type": "stream",
     "text": [
      "92\n",
      "Wall time: 723 ms\n"
     ]
    }
   ],
   "source": [
    "%%time\n",
    "rank = tf.linalg.matrix_rank(matrix.todense(), tol=1e-5).numpy()\n",
    "print(rank)"
   ]
  },
  {
   "cell_type": "code",
   "execution_count": 4,
   "metadata": {},
   "outputs": [
    {
     "name": "stdout",
     "output_type": "stream",
     "text": [
      "92\n",
      "Wall time: 1.32 s\n"
     ]
    }
   ],
   "source": [
    "%%time\n",
    "rank = find_rank(matrix.indptr, matrix.indices, matrix.shape[1], matrix.shape[0])\n",
    "print(rank)"
   ]
  },
  {
   "attachments": {},
   "cell_type": "markdown",
   "metadata": {},
   "source": [
    "### Generate dataset to compare algorithms"
   ]
  },
  {
   "cell_type": "code",
   "execution_count": 2,
   "metadata": {},
   "outputs": [],
   "source": [
    "def create_density(side, density_side):\n",
    "    return (density_side / side)"
   ]
  },
  {
   "cell_type": "code",
   "execution_count": 3,
   "metadata": {},
   "outputs": [],
   "source": [
    "sides = [100, 500, 1000, 5000, 10_000, 50_000]\n",
    "density_side = 10\n",
    "repititions = 10"
   ]
  },
  {
   "cell_type": "code",
   "execution_count": 4,
   "metadata": {},
   "outputs": [],
   "source": [
    "def pseudo_random_sparce(m, n, density=0.01, format='coo'):\n",
    "    tp = np.intc\n",
    "    k = int(round(density * m * n))\n",
    "\n",
    "    ind = np.random.choice(m * n, size=k, replace=True)\n",
    "\n",
    "    j = np.floor(ind * 1. / m).astype(tp, copy=False)\n",
    "    i = (ind - j * m).astype(tp, copy=False)\n",
    "\n",
    "    return coo_matrix((np.ones(k), (i, j)), shape=(m, n)).asformat(format,\n",
    "                                                             copy=False)"
   ]
  },
  {
   "cell_type": "code",
   "execution_count": null,
   "metadata": {},
   "outputs": [],
   "source": [
    "# Skip this part if dataset is already generated\n",
    "for side in sides:\n",
    "    for i in range(repititions):\n",
    "        density = create_density(side, density_side)\n",
    "        if side > 10_000:\n",
    "            matrix = pseudo_random_sparce(side, side, density, 'csr')\n",
    "        else:\n",
    "            matrix = rand(side, side, density=density, format='csr', dtype=np.int8)\n",
    "        matrix.data[:] = 1\n",
    "        save_npz(\"data/side_{}/matrix_{}.npz\".format(side, i), matrix)"
   ]
  },
  {
   "attachments": {},
   "cell_type": "markdown",
   "metadata": {},
   "source": [
    "### Execure different algorithms on the generated dataset"
   ]
  },
  {
   "cell_type": "code",
   "execution_count": 4,
   "metadata": {},
   "outputs": [],
   "source": [
    "from time import perf_counter\n",
    "\n",
    "def test_algorithm(sides, repititions, algorithm_func, time_limit=60*60):\n",
    "    algorithm_time = []\n",
    "    stop_computation = False\n",
    "\n",
    "    for side in sides:\n",
    "        if stop_computation:\n",
    "            break\n",
    "        \n",
    "        print(\"Computing rank for matrices {}x{}\".format(side, side))\n",
    "        total_time = 0\n",
    "        successful_repititions = 0\n",
    "        \n",
    "        for i in range(repititions):\n",
    "            print(\"  Attempt\", i+1)\n",
    "            matrix = load_npz(\"data/side_{}/matrix_{}.npz\".format(side, i))\n",
    "            \n",
    "            time_start = perf_counter()\n",
    "            algorithm_func(matrix)\n",
    "            time_stop = perf_counter()\n",
    "            time_spent = time_stop-time_start\n",
    "            \n",
    "            total_time += time_spent\n",
    "            successful_repititions += 1\n",
    "            print(\"  Computation time\", time_spent)\n",
    "            if time_spent > time_limit:\n",
    "                stop_computation = True\n",
    "                break\n",
    "            \n",
    "        algorithm_time.append(total_time / successful_repititions)\n",
    "\n",
    "    return np.array(algorithm_time)"
   ]
  },
  {
   "cell_type": "code",
   "execution_count": 5,
   "metadata": {},
   "outputs": [
    {
     "name": "stdout",
     "output_type": "stream",
     "text": [
      "Computing rank for matrices 100x100\n",
      "  Attempt 1\n",
      "  Computation time 3.1383876050000055\n",
      "Computing rank for matrices 500x500\n",
      "  Attempt 1\n",
      "  Computation time 1.4679521489999985\n",
      "Computing rank for matrices 1000x1000\n",
      "  Attempt 1\n",
      "  Computation time 3.0276730570000012\n",
      "Computing rank for matrices 5000x5000\n",
      "  Attempt 1\n",
      "  Computation time 41.021283307999994\n",
      "Computing rank for matrices 10000x10000\n",
      "  Attempt 1\n",
      "  Computation time 330.51924268799996\n",
      "Computing rank for matrices 50000x50000\n",
      "  Attempt 1\n"
     ]
    }
   ],
   "source": [
    "algorithm_time = test_algorithm(\n",
    "    sides, \n",
    "    1, \n",
    "    lambda matrix: find_rank(matrix.indptr, matrix.indices, matrix.shape[1], matrix.shape[0])\n",
    ")\n",
    "np.save(\"data/algorithm_time_v0.1.npy\", algorithm_time)"
   ]
  },
  {
   "cell_type": "code",
   "execution_count": 5,
   "metadata": {},
   "outputs": [
    {
     "name": "stdout",
     "output_type": "stream",
     "text": [
      "Computing rank for matrices 100x100\n",
      "  Attempt 1\n"
     ]
    },
    {
     "name": "stderr",
     "output_type": "stream",
     "text": [
      "2023-04-17 18:42:45.004329: I tensorflow/core/platform/cpu_feature_guard.cc:142] Your CPU supports instructions that this TensorFlow binary was not compiled to use: SSE4.1 SSE4.2 AVX AVX2 FMA\n",
      "2023-04-17 18:42:45.047465: I tensorflow/core/platform/profile_utils/cpu_utils.cc:94] CPU Frequency: 1992005000 Hz\n",
      "2023-04-17 18:42:45.049742: I tensorflow/compiler/xla/service/service.cc:168] XLA service 0x1732500 initialized for platform Host (this does not guarantee that XLA will be used). Devices:\n",
      "2023-04-17 18:42:45.049786: I tensorflow/compiler/xla/service/service.cc:176]   StreamExecutor device (0): Host, Default Version\n",
      "2023-04-17 18:42:46.928938: E tensorflow/stream_executor/cuda/cuda_gpu_executor.cc:967] could not open file to read NUMA node: /sys/bus/pci/devices/0000:02:00.0/numa_node\n",
      "Your kernel may have been built without NUMA support.\n",
      "2023-04-17 18:42:46.929902: I tensorflow/compiler/xla/service/service.cc:168] XLA service 0x17871d0 initialized for platform CUDA (this does not guarantee that XLA will be used). Devices:\n",
      "2023-04-17 18:42:46.929981: I tensorflow/compiler/xla/service/service.cc:176]   StreamExecutor device (0): NVIDIA GeForce GTX 1050 with Max-Q Design, Compute Capability 6.1\n",
      "2023-04-17 18:42:46.932549: E tensorflow/stream_executor/cuda/cuda_gpu_executor.cc:967] could not open file to read NUMA node: /sys/bus/pci/devices/0000:02:00.0/numa_node\n",
      "Your kernel may have been built without NUMA support.\n",
      "2023-04-17 18:42:46.932676: I tensorflow/core/common_runtime/gpu/gpu_device.cc:1555] Found device 0 with properties: \n",
      "pciBusID: 0000:02:00.0 name: NVIDIA GeForce GTX 1050 with Max-Q Design computeCapability: 6.1\n",
      "coreClock: 1.139GHz coreCount: 5 deviceMemorySize: 4.00GiB deviceMemoryBandwidth: 104.43GiB/s\n",
      "2023-04-17 18:42:46.932929: I tensorflow/stream_executor/platform/default/dso_loader.cc:44] Successfully opened dynamic library libcudart.so.10.1\n",
      "2023-04-17 18:42:46.933014: I tensorflow/stream_executor/platform/default/dso_loader.cc:44] Successfully opened dynamic library libcublas.so.10\n",
      "2023-04-17 18:42:46.933071: I tensorflow/stream_executor/platform/default/dso_loader.cc:44] Successfully opened dynamic library libcufft.so.10\n",
      "2023-04-17 18:42:46.933121: I tensorflow/stream_executor/platform/default/dso_loader.cc:44] Successfully opened dynamic library libcurand.so.10\n",
      "2023-04-17 18:42:46.933171: I tensorflow/stream_executor/platform/default/dso_loader.cc:44] Successfully opened dynamic library libcusolver.so.10\n",
      "2023-04-17 18:42:46.933217: I tensorflow/stream_executor/platform/default/dso_loader.cc:44] Successfully opened dynamic library libcusparse.so.10\n",
      "2023-04-17 18:42:46.933263: I tensorflow/stream_executor/platform/default/dso_loader.cc:44] Successfully opened dynamic library libcudnn.so.7\n",
      "2023-04-17 18:42:46.934709: E tensorflow/stream_executor/cuda/cuda_gpu_executor.cc:967] could not open file to read NUMA node: /sys/bus/pci/devices/0000:02:00.0/numa_node\n",
      "Your kernel may have been built without NUMA support.\n",
      "2023-04-17 18:42:46.936317: E tensorflow/stream_executor/cuda/cuda_gpu_executor.cc:967] could not open file to read NUMA node: /sys/bus/pci/devices/0000:02:00.0/numa_node\n",
      "Your kernel may have been built without NUMA support.\n",
      "2023-04-17 18:42:46.936399: I tensorflow/core/common_runtime/gpu/gpu_device.cc:1697] Adding visible gpu devices: 0\n",
      "2023-04-17 18:42:46.938297: I tensorflow/stream_executor/platform/default/dso_loader.cc:44] Successfully opened dynamic library libcudart.so.10.1\n",
      "2023-04-17 18:42:46.940638: I tensorflow/core/common_runtime/gpu/gpu_device.cc:1096] Device interconnect StreamExecutor with strength 1 edge matrix:\n",
      "2023-04-17 18:42:46.940699: I tensorflow/core/common_runtime/gpu/gpu_device.cc:1102]      0 \n",
      "2023-04-17 18:42:46.940721: I tensorflow/core/common_runtime/gpu/gpu_device.cc:1115] 0:   N \n",
      "2023-04-17 18:42:46.945355: E tensorflow/stream_executor/cuda/cuda_gpu_executor.cc:967] could not open file to read NUMA node: /sys/bus/pci/devices/0000:02:00.0/numa_node\n",
      "Your kernel may have been built without NUMA support.\n",
      "2023-04-17 18:42:46.945443: I tensorflow/core/common_runtime/gpu/gpu_device.cc:1324] Could not identify NUMA node of platform GPU id 0, defaulting to 0.  Your kernel may not have been built with NUMA support.\n",
      "2023-04-17 18:42:46.947273: E tensorflow/stream_executor/cuda/cuda_gpu_executor.cc:967] could not open file to read NUMA node: /sys/bus/pci/devices/0000:02:00.0/numa_node\n",
      "Your kernel may have been built without NUMA support.\n",
      "2023-04-17 18:42:46.947468: I tensorflow/core/common_runtime/gpu/gpu_device.cc:1241] Created TensorFlow device (/job:localhost/replica:0/task:0/device:GPU:0 with 3075 MB memory) -> physical GPU (device: 0, name: NVIDIA GeForce GTX 1050 with Max-Q Design, pci bus id: 0000:02:00.0, compute capability: 6.1)\n",
      "2023-04-17 18:42:47.241399: I tensorflow/core/kernels/cuda_solvers.cc:159] Creating CudaSolver handles for stream 0x4dc6f30\n",
      "2023-04-17 18:42:47.242356: I tensorflow/stream_executor/platform/default/dso_loader.cc:44] Successfully opened dynamic library libcusolver.so.10\n",
      "2023-04-17 18:42:49.359446: I tensorflow/stream_executor/platform/default/dso_loader.cc:44] Successfully opened dynamic library libcublas.so.10\n"
     ]
    },
    {
     "name": "stdout",
     "output_type": "stream",
     "text": [
      "  Computation time 10.990917134000483\n",
      "Computing rank for matrices 500x500\n",
      "  Attempt 1\n",
      "  Computation time 0.19263730799866607\n",
      "Computing rank for matrices 1000x1000\n",
      "  Attempt 1\n",
      "  Computation time 0.220327510000061\n",
      "Computing rank for matrices 5000x5000\n",
      "  Attempt 1\n"
     ]
    },
    {
     "name": "stderr",
     "output_type": "stream",
     "text": [
      "2023-04-17 18:42:56.672102: W tensorflow/core/framework/cpu_allocator_impl.cc:81] Allocation of 100000000 exceeds 10% of system memory.\n"
     ]
    },
    {
     "name": "stdout",
     "output_type": "stream",
     "text": [
      "  Computation time 7.2353546819995245\n",
      "Computing rank for matrices 10000x10000\n",
      "  Attempt 1\n"
     ]
    },
    {
     "name": "stderr",
     "output_type": "stream",
     "text": [
      "2023-04-17 18:43:05.041253: W tensorflow/core/framework/cpu_allocator_impl.cc:81] Allocation of 400000000 exceeds 10% of system memory.\n"
     ]
    },
    {
     "name": "stdout",
     "output_type": "stream",
     "text": [
      "  Computation time 47.83195483399868\n"
     ]
    }
   ],
   "source": [
    "tf_time = test_algorithm(\n",
    "    sides[:-1], \n",
    "    1, \n",
    "    lambda matrix: tf.linalg.matrix_rank(matrix.todense(), tol=1e-5).numpy()\n",
    ")\n",
    "np.save(\"data/tf_time.npy\", tf_time)"
   ]
  },
  {
   "attachments": {},
   "cell_type": "markdown",
   "metadata": {},
   "source": [
    "### Compare computation time"
   ]
  },
  {
   "cell_type": "code",
   "execution_count": 11,
   "metadata": {},
   "outputs": [
    {
     "data": {
      "image/png": "[encoded data removed]",
      "text/plain": [
       "<Figure size 1000x500 with 1 Axes>"
      ]
     },
     "metadata": {},
     "output_type": "display_data"
    }
   ],
   "source": [
    "from matplotlib import pyplot as plt\n",
    "\n",
    "used_sides = sides[:-1]\n",
    "\n",
    "fig = plt.figure(figsize=(10, 5))\n",
    "plt.plot(used_sides, np.load(\"data/tf_time.npy\"), label=\"Tensorflow SVD on GPU\")\n",
    "plt.plot(sides, np.load(\"data/algorithm_time_v0.1.npy\"), label=\"Our base algorithm\")\n",
    "plt.plot(used_sides, np.load(\"data/algorithm_time_v0.2.npy\"), label=\"Our algorithm with cached max row indexes\")\n",
    "plt.xscale('log')\n",
    "plt.xticks(\n",
    "    used_sides, \n",
    "    list(map(lambda x: \"{}x{}\\ndensity={:.0e}\".format(\n",
    "        str(x), \n",
    "        str(x), \n",
    "        create_density(x, density_side)\n",
    "    ), used_sides)), \n",
    "    rotation=45\n",
    ")\n",
    "plt.legend()\n",
    "plt.xlabel(\"Matrix description\")\n",
    "plt.ylabel(\"Computation time, sec\")\n",
    "plt.grid()\n",
    "plt.show()"
   ]
  }
 ],
 "metadata": {
  "kernelspec": {
   "display_name": "cuda_dev",
   "language": "python",
   "name": "python3"
  },
  "language_info": {
   "codemirror_mode": {
    "name": "ipython",
    "version": 3
   },
   "file_extension": ".py",
   "mimetype": "text/x-python",
   "name": "python",
   "nbconvert_exporter": "python",
   "pygments_lexer": "ipython3",
   "version": "3.7.16"
  },
  "orig_nbformat": 4,
  "vscode": {
   "interpreter": {
    "hash": "f9baa32912ff81f2bb0d60b39b33c049daf1d8b98af61f1898769017504a65ea"
   }
  }
 },
 "nbformat": 4,
 "nbformat_minor": 2
}
