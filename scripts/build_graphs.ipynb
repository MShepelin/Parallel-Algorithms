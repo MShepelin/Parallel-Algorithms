{
 "cells": [
  {
   "cell_type": "code",
   "execution_count": null,
   "metadata": {},
   "outputs": [],
   "source": [
    "from helpers import get_sides, CONST_WIDTH\n",
    "import numpy as np"
   ]
  },
  {
   "cell_type": "code",
   "execution_count": null,
   "metadata": {},
   "outputs": [],
   "source": [
    "main_dir = \"parallelrank_perfs\"\n",
    "sides = get_sides(True)\n",
    "\n",
    "linear_growth_width = []\n",
    "linear_growth_1 = []\n",
    "linear_growth_10 = []\n",
    "const_nnz = []\n",
    "\n",
    "def get_measurement(main_dir, width, height, nnz):\n",
    "    return np.load(\"{}/algorithm_time_{}x{}_nnz_{}.npy\".format(main_dir, width, height, nnz))\n",
    "\n",
    "# Aggregate performance measurements\n",
    "for side in sides:\n",
    "    nnz, shape = (CONST_WIDTH * CONST_WIDTH, (CONST_WIDTH, side))\n",
    "    width, height = shape\n",
    "    linear_growth_width.append(get_measurement(main_dir, width, height, nnz))\n",
    "    \n",
    "    nnz, shape = (1 * side, (side, side))\n",
    "    width, height = shape\n",
    "    linear_growth_1.append(get_measurement(main_dir, width, height, nnz))\n",
    "    \n",
    "    nnz, shape = (10 * side, (side, side))\n",
    "    width, height = shape\n",
    "    linear_growth_10.append(get_measurement(main_dir, width, height, nnz))\n",
    "    \n",
    "    nnz, shape = (CONST_WIDTH * CONST_WIDTH, (side, side))\n",
    "    width, height = shape\n",
    "    const_nnz.append(get_measurement(main_dir, width, height, nnz))\n",
    "\n",
    "\n",
    "from matplotlib import pyplot as plt\n",
    "\n",
    "fig, axs = plt.subplots(4)\n",
    "fig.suptitle('Все графики')\n",
    "axs[0].plot(sides, linear_growth_width, label=\"\")\n",
    "\n",
    "fig = plt.figure(figsize=(10, 5))\n",
    "plt.plot(sides, np.load(\"data/tf_time.npy\"), label=\"Tensorflow SVD (GPU)\")\n",
    "plt.plot(sides, \"data/cpualgorithm_time.npy\", label=\"Алгоритм Гаусса\")\n",
    "plt.plot(sides, np.load(\"data/algorithm_time_v0.1.npy\"), label=\"Алгоритм проекта\")\n",
    "plt.plot(sides, np.load(\"data/algorithm_time_v0.2.npy\"), label=\"Алгоритм проекта с кэшированием максимальных индексов\")\n",
    "plt.plot(sides, np.load(\"data/algorithm_time_v0.3.npy\"), label=\"Алгоритм проекта с кэшированием и оптимизацией памяти\")\n",
    "plt.xscale('log')\n",
    "plt.xticks(\n",
    "    sides, \n",
    "    list(map(lambda x: \"{}x{}\\nПлотность={:.0e}\".format(\n",
    "        str(x), \n",
    "        str(x), \n",
    "        create_density(x, density_side)\n",
    "    ), used_sides)), \n",
    "    rotation=45\n",
    ")\n",
    "plt.title(\"Сравнение алгоритмов вычисления ранга двоичной матрицы\")\n",
    "plt.legend()\n",
    "plt.xlabel(\"Описание матрицы\")\n",
    "plt.ylabel(\"Время вычислений, сек\")\n",
    "plt.grid()\n",
    "plt.show()"
   ]
  }
 ],
 "metadata": {
  "language_info": {
   "name": "python"
  },
  "orig_nbformat": 4
 },
 "nbformat": 4,
 "nbformat_minor": 2
}
